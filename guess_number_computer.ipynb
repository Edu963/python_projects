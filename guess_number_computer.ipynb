{
  "nbformat": 4,
  "nbformat_minor": 0,
  "metadata": {
    "colab": {
      "provenance": [],
      "authorship_tag": "ABX9TyPcAwsfp7hRX2wt6TCKT9Ei",
      "include_colab_link": true
    },
    "kernelspec": {
      "name": "python3",
      "display_name": "Python 3"
    },
    "language_info": {
      "name": "python"
    }
  },
  "cells": [
    {
      "cell_type": "markdown",
      "metadata": {
        "id": "view-in-github",
        "colab_type": "text"
      },
      "source": [
        "<a href=\"https://colab.research.google.com/github/Edu963/python_projects/blob/main/guess_number_computer.ipynb\" target=\"_parent\"><img src=\"https://colab.research.google.com/assets/colab-badge.svg\" alt=\"Open In Colab\"/></a>"
      ]
    },
    {
      "cell_type": "code",
      "source": [],
      "metadata": {
        "id": "C47GJ5P_rMQp"
      },
      "execution_count": null,
      "outputs": []
    },
    {
      "cell_type": "markdown",
      "source": [
        "Source : https://www.youtube.com/watch?v=8ext9G7xspg&t=842s&ab_channel=freeCodeCamp.org"
      ],
      "metadata": {
        "id": "wwHIEVEarOA4"
      }
    },
    {
      "cell_type": "code",
      "execution_count": 2,
      "metadata": {
        "colab": {
          "base_uri": "https://localhost:8080/"
        },
        "id": "PSZRAXWxmjaV",
        "outputId": "1e7da26c-94b9-4488-de19-e5a7649eab63"
      },
      "outputs": [
        {
          "output_type": "stream",
          "name": "stdout",
          "text": [
            "is 1 to low(l) , to high (h) or correct (c) ?l\n",
            "is 8 to low(l) , to high (h) or correct (c) ?8\n",
            "is 3 to low(l) , to high (h) or correct (c) ?l\n",
            "is 10 to low(l) , to high (h) or correct (c) ?h\n",
            "is 6 to low(l) , to high (h) or correct (c) ?h\n",
            "is 5 to low(l) , to high (h) or correct (c) ?h\n",
            "is 4 to low(l) , to high (h) or correct (c) ?c\n",
            "Computer guessed your number 4 !\n"
          ]
        }
      ],
      "source": [
        "import random\n",
        "\n",
        "'''# Define function called guess with x as a parameter\n",
        "def guess(x):\n",
        "  random_number = random.randint(1, x)\n",
        "\n",
        "  # Enter a while loop. The idea is to enter a number and have the computer\n",
        "  # tell us if the number is too low or high\n",
        "  guess = 0\n",
        "  while guess != random_number:\n",
        "    guess = int(input(f\"Guess a number between 1 and {x}: \"))\n",
        "    if guess < random_number:\n",
        "      print(\"Sorry, your guess is too low. Guess again.\")\n",
        "    elif guess > random_number:\n",
        "      print(\"Sorry, your guess is too high. Guess again.\")\n",
        "\n",
        "  # Print congratulations message if the user guesses the correct number\n",
        "  print(f\"CONGRATULATIONS! You guessed the random number {random_number}!\")\n",
        "\n",
        "# Call the guess function with the argument 10\n",
        "\n",
        "guess(10)'''\n",
        "\n",
        "\n",
        "#Define function for computer to guess\n",
        "def computer_guess (x):\n",
        "  low = 1\n",
        "  high = x\n",
        "  feedback = ('')\n",
        "  while feedback != 'c':\n",
        "    if low != high:\n",
        "      guess = random.randint(low,high)\n",
        "    else:\n",
        "      guess = low #or high qince they are the same\n",
        "    guess = random.randint(low,high)\n",
        "    feedback = input(f'is {guess} to low(l) , to high (h) or correct (c) ?').lower()\n",
        "    if feedback == 'h':\n",
        "      high = (guess - 1)\n",
        "    elif feedback == 'l':\n",
        "      low = (guess + 1)\n",
        "  print(f'Computer guessed your number {guess} !')\n",
        "\n",
        "computer_guess (10)\n",
        "\n",
        "\n",
        "\n",
        "\n"
      ]
    }
  ]
}